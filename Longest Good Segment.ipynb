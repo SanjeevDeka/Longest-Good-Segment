{
 "cells": [
  {
   "cell_type": "code",
   "execution_count": 8,
   "metadata": {},
   "outputs": [
    {
     "name": "stdout",
     "output_type": "stream",
     "text": [
      "[1, 2, 3, 4, 5, 6, 7, 8, 9, 10]\n",
      "[2, 4, 5, 15]\n",
      "[1, 3, 6, 7, 8, 9, 10]\n",
      "[[1], [3], [6, 7, 8, 9, 10]]\n",
      "5\n"
     ]
    }
   ],
   "source": [
    "list1 = [1, 10, 5, 4, 2, 15]\n",
    "list2 = list1[0:2]\n",
    "list3 = list(set(list1) - set(list2))\n",
    "def createList(r1, r2): \n",
    "    return list(range(r1, r2+1))\n",
    "r1 = list2[0]\n",
    "r2 = list2[1]\n",
    "list4 = createList(r1, r2)\n",
    "print(list4)\n",
    "print(list3)\n",
    "def groupSequence(listx): \n",
    "    res = [[listx[0]]]   \n",
    "    for i in range(1, len(listx)): \n",
    "        if listx[i-1]+1 == listx[i]: \n",
    "            res[-1].append(listx[i])  \n",
    "        else:\n",
    "            res.append([listx[i]]) \n",
    "    return res       \n",
    "listx = list(set(list4) - set(list3)) \n",
    "print(listx)\n",
    "list5 = groupSequence(listx)\n",
    "print(list5)\n",
    "#print(len(list5))\n",
    "def MaxLength(list5): \n",
    "    maxLength = max(len(x) for x in list5)  \n",
    "    return maxLength\n",
    "print(MaxLength(list5))\n"
   ]
  },
  {
   "cell_type": "code",
   "execution_count": null,
   "metadata": {},
   "outputs": [],
   "source": []
  },
  {
   "cell_type": "code",
   "execution_count": null,
   "metadata": {},
   "outputs": [],
   "source": []
  }
 ],
 "metadata": {
  "kernelspec": {
   "display_name": "Python 3",
   "language": "python",
   "name": "python3"
  },
  "language_info": {
   "codemirror_mode": {
    "name": "ipython",
    "version": 3
   },
   "file_extension": ".py",
   "mimetype": "text/x-python",
   "name": "python",
   "nbconvert_exporter": "python",
   "pygments_lexer": "ipython3",
   "version": "3.7.4"
  }
 },
 "nbformat": 4,
 "nbformat_minor": 2
}
